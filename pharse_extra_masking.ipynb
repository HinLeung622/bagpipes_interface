{
 "cells": [
  {
   "cell_type": "code",
   "execution_count": 1,
   "metadata": {},
   "outputs": [],
   "source": [
    "import numpy as np\n",
    "import matplotlib.pyplot as plt"
   ]
  },
  {
   "cell_type": "code",
   "execution_count": 2,
   "metadata": {},
   "outputs": [],
   "source": [
    "input_str = '''\n",
    "12067-3701\n",
    "4689-4706, in marvin\n",
    "5161-5174, in marvin\n",
    "5225-5238, in marvin\n",
    "5601-5612, in marvin\n",
    "6121-6128, in marvin\n",
    "6259-6270, in marvin\n",
    "6880-6886, in marvin\n",
    "7110-7132, in marvin\n",
    "7184-7202, in marvin\n",
    "7247-7260, in marvin\n",
    "7435-7449, in marvin\n",
    "\n",
    "11965-1901\n",
    "4821-4831, in marvin\n",
    "7099-7109, in marvin\n",
    "7130-7163, in marvin\n",
    "7540-7550, in marvin\n",
    "7663-7693, in marvin\n",
    "\n",
    "12621-1902\n",
    "6510-6517, in marvin\n",
    "\n",
    "11009-1901\n",
    "5457-5467, in marvin\n",
    "\n",
    "8950-3704\n",
    "4046-4050\n",
    "'''"
   ]
  },
  {
   "cell_type": "code",
   "execution_count": 3,
   "metadata": {},
   "outputs": [
    {
     "name": "stdout",
     "output_type": "stream",
     "text": [
      "skipping one empty line\n",
      "12067-3701        4697.5       8.5\n",
      "12067-3701        5167.5       6.5\n",
      "12067-3701        5231.5       6.5\n",
      "12067-3701        5606.5       5.5\n",
      "12067-3701        6124.5       3.5\n",
      "12067-3701        6264.5       5.5\n",
      "12067-3701        6883.0       3.0\n",
      "12067-3701        7121.0       11.0\n",
      "12067-3701        7193.0       9.0\n",
      "12067-3701        7253.5       6.5\n",
      "12067-3701        7442.0       7.0\n",
      "11965-1901        4826.0       5.0\n",
      "11965-1901        7104.0       5.0\n",
      "11965-1901        7146.5       16.5\n",
      "11965-1901        7545.0       5.0\n",
      "11965-1901        7678.0       15.0\n",
      "12621-1902        6513.5       3.5\n",
      "11009-1901        5462.0       5.0\n",
      "8950-3704         4048.0       2.0\n"
     ]
    }
   ],
   "source": [
    "input_lines = input_str.split('\\n')\n",
    "output_lines = []\n",
    "current_ID = None\n",
    "for line in input_lines:\n",
    "    if current_ID is None:\n",
    "        if len(line)>0:\n",
    "            current_ID = line.split(':')[0]\n",
    "        else:\n",
    "            print('skipping one empty line')\n",
    "    else:\n",
    "        if len(line)>0:\n",
    "            if ',' in line:\n",
    "                line = line.split(',')[0]\n",
    "            wavs = line.split('-')\n",
    "            wavs = [float(wav) for wav in wavs]\n",
    "            pos = (wavs[0]+wavs[1])/2\n",
    "            width = (wavs[1]-wavs[0])/2\n",
    "            output_lines.append(f'{current_ID.ljust(18)}{str(np.round(pos,1)).ljust(13)}{np.round(width,1)}')\n",
    "        else:\n",
    "            current_ID = None\n",
    "            \n",
    "for line in output_lines:\n",
    "    print(line)"
   ]
  },
  {
   "cell_type": "code",
   "execution_count": null,
   "metadata": {},
   "outputs": [],
   "source": []
  }
 ],
 "metadata": {
  "kernelspec": {
   "display_name": "Python 3",
   "language": "python",
   "name": "python3"
  },
  "language_info": {
   "codemirror_mode": {
    "name": "ipython",
    "version": 3
   },
   "file_extension": ".py",
   "mimetype": "text/x-python",
   "name": "python",
   "nbconvert_exporter": "python",
   "pygments_lexer": "ipython3",
   "version": "3.8.5"
  }
 },
 "nbformat": 4,
 "nbformat_minor": 4
}
