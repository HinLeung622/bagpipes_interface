{
 "cells": [
  {
   "cell_type": "code",
   "execution_count": 3,
   "metadata": {},
   "outputs": [],
   "source": [
    "import numpy as np\n",
    "import matplotlib.pyplot as plt"
   ]
  },
  {
   "cell_type": "code",
   "execution_count": 7,
   "metadata": {},
   "outputs": [],
   "source": [
    "input_str = '''\n",
    "11745-12702\n",
    "4784-4801, not in marvin\n",
    "6327-6333, not in marvin\n",
    "\n",
    "8080-3704\n",
    "4046-4050, in marvin\n",
    "4860-4869, in marvin\n",
    "5460-5466\n",
    "\n",
    "9505-6102\n",
    "7628-7639, not in marvin\n",
    "\n",
    "9867-9102\n",
    "5460-5466\n",
    "7626-7636, in marvin\n",
    "\n",
    "9891-6102\n",
    "6135-6145, in marvin\n",
    "7626-7634, not in marvin\n",
    "'''"
   ]
  },
  {
   "cell_type": "code",
   "execution_count": 8,
   "metadata": {},
   "outputs": [
    {
     "name": "stdout",
     "output_type": "stream",
     "text": [
      "skipping one empty line\n",
      "11745-12702  4792.5       8.5\n",
      "11745-12702  6330.0       3.0\n",
      "8080-3704    4048.0       2.0\n",
      "8080-3704    4864.5       4.5\n",
      "8080-3704    5463.0       3.0\n",
      "9505-6102    7633.5       5.5\n",
      "9867-9102    5463.0       3.0\n",
      "9867-9102    7631.0       5.0\n",
      "9891-6102    6140.0       5.0\n",
      "9891-6102    7630.0       4.0\n"
     ]
    }
   ],
   "source": [
    "input_lines = input_str.split('\\n')\n",
    "output_lines = []\n",
    "current_ID = None\n",
    "for line in input_lines:\n",
    "    if current_ID is None:\n",
    "        if len(line)>0:\n",
    "            current_ID = line.split(':')[0]\n",
    "        else:\n",
    "            print('skipping one empty line')\n",
    "    else:\n",
    "        if len(line)>0:\n",
    "            if ',' in line:\n",
    "                line = line.split(',')[0]\n",
    "            wavs = line.split('-')\n",
    "            wavs = [float(wav) for wav in wavs]\n",
    "            pos = (wavs[0]+wavs[1])/2\n",
    "            width = (wavs[1]-wavs[0])/2\n",
    "            output_lines.append(f'{current_ID.ljust(13)}{str(np.round(pos,1)).ljust(13)}{np.round(width,1)}')\n",
    "        else:\n",
    "            current_ID = None\n",
    "            \n",
    "for line in output_lines:\n",
    "    print(line)"
   ]
  },
  {
   "cell_type": "code",
   "execution_count": null,
   "metadata": {},
   "outputs": [],
   "source": []
  }
 ],
 "metadata": {
  "kernelspec": {
   "display_name": "Python 3",
   "language": "python",
   "name": "python3"
  },
  "language_info": {
   "codemirror_mode": {
    "name": "ipython",
    "version": 3
   },
   "file_extension": ".py",
   "mimetype": "text/x-python",
   "name": "python",
   "nbconvert_exporter": "python",
   "pygments_lexer": "ipython3",
   "version": "3.8.5"
  }
 },
 "nbformat": 4,
 "nbformat_minor": 4
}
