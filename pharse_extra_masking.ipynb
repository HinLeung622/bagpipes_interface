{
 "cells": [
  {
   "cell_type": "code",
   "execution_count": 1,
   "metadata": {},
   "outputs": [],
   "source": [
    "import numpy as np\n",
    "import matplotlib.pyplot as plt"
   ]
  },
  {
   "cell_type": "code",
   "execution_count": 4,
   "metadata": {},
   "outputs": [],
   "source": [
    "input_str = '''\n",
    "9507-12704\n",
    "5887-5899, in marvin\n",
    "\n",
    "11976-1901\n",
    "4818-4827, in marvin\n",
    "5888-5900, in marvin\n",
    "7286-7302, in marvin\n",
    "7377-7388, in marvin\n",
    "7691-7719, in marvin\n",
    "7864-7873, in marvin\n",
    "'''"
   ]
  },
  {
   "cell_type": "code",
   "execution_count": 5,
   "metadata": {},
   "outputs": [
    {
     "name": "stdout",
     "output_type": "stream",
     "text": [
      "skipping one empty line\n",
      "9507-12704        5893.0       6.0\n",
      "11976-1901        4822.5       4.5\n",
      "11976-1901        5894.0       6.0\n",
      "11976-1901        7294.0       8.0\n",
      "11976-1901        7382.5       5.5\n",
      "11976-1901        7705.0       14.0\n",
      "11976-1901        7868.5       4.5\n"
     ]
    }
   ],
   "source": [
    "input_lines = input_str.split('\\n')\n",
    "output_lines = []\n",
    "current_ID = None\n",
    "for line in input_lines:\n",
    "    if current_ID is None:\n",
    "        if len(line)>0:\n",
    "            current_ID = line.split(':')[0]\n",
    "        else:\n",
    "            print('skipping one empty line')\n",
    "    else:\n",
    "        if len(line)>0:\n",
    "            if ',' in line:\n",
    "                line = line.split(',')[0]\n",
    "            wavs = line.split('-')\n",
    "            wavs = [float(wav) for wav in wavs]\n",
    "            pos = (wavs[0]+wavs[1])/2\n",
    "            width = (wavs[1]-wavs[0])/2\n",
    "            output_lines.append(f'{current_ID.ljust(18)}{str(np.round(pos,1)).ljust(13)}{np.round(width,1)}')\n",
    "        else:\n",
    "            current_ID = None\n",
    "            \n",
    "for line in output_lines:\n",
    "    print(line)"
   ]
  },
  {
   "cell_type": "code",
   "execution_count": 11,
   "metadata": {},
   "outputs": [
    {
     "data": {
      "text/plain": [
       "'Habelow10_angle315-360'"
      ]
     },
     "execution_count": 11,
     "metadata": {},
     "output_type": "execute_result"
    }
   ],
   "source": [
    "a = '8604-9102_Habelow10_angle315-360'\n",
    "a.replace('8604-9102','')[1:]"
   ]
  },
  {
   "cell_type": "code",
   "execution_count": null,
   "metadata": {},
   "outputs": [],
   "source": []
  }
 ],
 "metadata": {
  "kernelspec": {
   "display_name": "Python 3",
   "language": "python",
   "name": "python3"
  },
  "language_info": {
   "codemirror_mode": {
    "name": "ipython",
    "version": 3
   },
   "file_extension": ".py",
   "mimetype": "text/x-python",
   "name": "python",
   "nbconvert_exporter": "python",
   "pygments_lexer": "ipython3",
   "version": "3.8.5"
  }
 },
 "nbformat": 4,
 "nbformat_minor": 4
}
